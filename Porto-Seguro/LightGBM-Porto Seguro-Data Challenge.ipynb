{
 "cells": [
  {
   "cell_type": "code",
   "execution_count": 3,
   "metadata": {},
   "outputs": [],
   "source": [
    "import pandas as pd\n",
    "import numpy as np\n",
    "import lightgbm as gbm\n",
    "from lightgbm import LGBMClassifier\n",
    "from sklearn import tree\n",
    "\n",
    "train = pd.read_csv(r'C:\\Users\\natha\\Desktop\\Data\\train.csv')\n",
    "test = pd.read_csv(r'C:\\Users\\natha\\Desktop\\Data\\test.csv')\n",
    "\n",
    "train_copy = train\n",
    "test_copy = test\n",
    "train_id = train[\"id\"]\n",
    "train_label = train[\"target\"]\n",
    "test_id = test[\"id\"]\n",
    "\n",
    "### variables we need to get rid of when training\n",
    "\n",
    "drop_features = ['id','target']\n",
    "\n",
    "### Drop the 'calc' features which are apparently useless as said on the competition forum\n",
    "\n",
    "for col in train_copy.columns:\n",
    "    if 'calc' in col:\n",
    "        del train_copy[col]\n",
    "    \n",
    "for col in test_copy.columns:\n",
    "    if 'calc' in col:\n",
    "        del test_copy[col] \n",
    "        \n",
    "X_train = train_copy.drop(drop_features,axis=1)\n",
    "y_train = train_copy['target']\n",
    "\n",
    "feature_names = X_train.columns.tolist()\n",
    "\n",
    "cat_features = [c for c in feature_names if ('cat' in c and 'count' not in c)]"
   ]
  },
  {
   "cell_type": "code",
   "execution_count": 4,
   "metadata": {},
   "outputs": [],
   "source": [
    "# Here we dummify the 'cat' features to make them usable for supervised learning\n",
    "\n",
    "new_set = pd.get_dummies(columns=cat_features, data=train)\n",
    "\n",
    "# Create new variables based on the dummified \n",
    "\n",
    "X_new = new_set.drop(drop_features,axis=1)\n",
    "y_new = new_set['target']"
   ]
  },
  {
   "cell_type": "code",
   "execution_count": 5,
   "metadata": {},
   "outputs": [
    {
     "name": "stdout",
     "output_type": "stream",
     "text": [
      "[1.85589894e-02 4.45470339e-02 2.37288528e-02 7.96247283e-03\n",
      " 8.57996545e-03 6.52890778e-03 0.00000000e+00 4.71753632e-04\n",
      " 8.14483869e-04 0.00000000e+00 0.00000000e+00 4.71971907e-02\n",
      " 3.46904450e-03 6.05123134e-02 2.48893572e-03 3.04822391e-02\n",
      " 2.71508145e-02 1.14765395e-01 3.87504201e-03 1.48812368e-02\n",
      " 2.50678395e-01 2.69366015e-02 1.73689379e-02 0.00000000e+00\n",
      " 0.00000000e+00 5.26077669e-03 2.43652215e-03 6.34951638e-04\n",
      " 9.94046461e-04 3.54412562e-03 2.44562683e-03 0.00000000e+00\n",
      " 9.42685872e-02 1.48060545e-03 8.16937671e-04 3.30084848e-03\n",
      " 9.13486921e-04 8.68849581e-04 2.75781152e-04 0.00000000e+00\n",
      " 8.34326585e-04 1.61065858e-03 0.00000000e+00 3.14410119e-04\n",
      " 0.00000000e+00 2.30944355e-03 5.34052493e-03 1.02368759e-02\n",
      " 2.42001157e-03 4.11830161e-03 3.98118604e-04 1.54330915e-03\n",
      " 0.00000000e+00 5.88773585e-04 7.66365719e-04 9.05520941e-03\n",
      " 3.40970016e-04 5.87353371e-03 0.00000000e+00 3.43272040e-04\n",
      " 7.22623861e-03 0.00000000e+00 0.00000000e+00 0.00000000e+00\n",
      " 4.53280684e-04 0.00000000e+00 8.69049432e-04 4.51493384e-04\n",
      " 6.98031921e-03 1.30973177e-03 2.88568835e-03 0.00000000e+00\n",
      " 2.84946890e-03 5.64505125e-04 2.55816347e-03 2.67010910e-03\n",
      " 7.00753008e-05 3.36553620e-03 0.00000000e+00 0.00000000e+00\n",
      " 1.56307637e-04 1.01694627e-03 3.57736473e-03 0.00000000e+00\n",
      " 1.04162106e-04 2.39796202e-03 0.00000000e+00 1.00343009e-03\n",
      " 6.15330910e-04 0.00000000e+00 1.10147423e-02 9.43389461e-03\n",
      " 2.35612740e-03 6.48042574e-04 0.00000000e+00 8.34395833e-03\n",
      " 3.93015920e-03 7.48152779e-04 7.51224145e-04 0.00000000e+00\n",
      " 0.00000000e+00 0.00000000e+00 0.00000000e+00 0.00000000e+00\n",
      " 5.85343743e-04 4.54244288e-04 0.00000000e+00 1.67791299e-03\n",
      " 0.00000000e+00 9.38473309e-04 0.00000000e+00 0.00000000e+00\n",
      " 1.04396258e-03 7.45659750e-04 0.00000000e+00 0.00000000e+00\n",
      " 1.82293085e-03 0.00000000e+00 0.00000000e+00 0.00000000e+00\n",
      " 3.10495371e-04 6.81355577e-04 6.60568223e-04 0.00000000e+00\n",
      " 4.45741632e-04 0.00000000e+00 9.65854070e-04 0.00000000e+00\n",
      " 0.00000000e+00 0.00000000e+00 0.00000000e+00 6.74508310e-04\n",
      " 0.00000000e+00 0.00000000e+00 7.70949523e-04 0.00000000e+00\n",
      " 6.03992055e-04 1.46561874e-03 0.00000000e+00 7.94655782e-04\n",
      " 0.00000000e+00 7.15386563e-04 5.89672679e-04 0.00000000e+00\n",
      " 6.06861740e-04 0.00000000e+00 8.75816004e-04 0.00000000e+00\n",
      " 1.50889505e-03 0.00000000e+00 6.17745030e-04 8.79493858e-04\n",
      " 0.00000000e+00 2.47031228e-03 1.36435729e-03 5.86595611e-04\n",
      " 0.00000000e+00 0.00000000e+00 0.00000000e+00 9.05827757e-04\n",
      " 0.00000000e+00 0.00000000e+00 6.56049360e-04 0.00000000e+00\n",
      " 0.00000000e+00 0.00000000e+00 0.00000000e+00 0.00000000e+00\n",
      " 0.00000000e+00 6.18596244e-04 0.00000000e+00 0.00000000e+00\n",
      " 5.93082868e-04 6.55862452e-04 0.00000000e+00 0.00000000e+00\n",
      " 8.39453134e-04 1.16407016e-03 0.00000000e+00 0.00000000e+00\n",
      " 3.51206527e-04 6.77591469e-04 0.00000000e+00 8.36503461e-04\n",
      " 8.52295318e-04 2.12724977e-03 0.00000000e+00 1.89559954e-03\n",
      " 0.00000000e+00 0.00000000e+00 0.00000000e+00 0.00000000e+00\n",
      " 6.19393130e-04 9.05341084e-04 0.00000000e+00 8.95742967e-04\n",
      " 0.00000000e+00 0.00000000e+00 0.00000000e+00 0.00000000e+00\n",
      " 0.00000000e+00 1.69117650e-03 0.00000000e+00 1.07429288e-03\n",
      " 1.48401840e-03 1.05039582e-03 2.56352694e-03]\n",
      "0.6550590377882166\n"
     ]
    }
   ],
   "source": [
    "from sklearn import tree\n",
    "test_tree = tree.DecisionTreeClassifier(max_depth = 10, min_samples_split = 5, random_state = 42,class_weight='balanced')\n",
    "test_tree = test_tree.fit(X_new,y_new)\n",
    "print(test_tree.feature_importances_)\n",
    "print(test_tree.score(X_new,y_new))"
   ]
  },
  {
   "cell_type": "code",
   "execution_count": 6,
   "metadata": {},
   "outputs": [],
   "source": [
    "# Same as above since I forgot to dummify both sets in one go\n",
    "\n",
    "for col in test_copy.columns:\n",
    "    if 'calc' in col:\n",
    "        del test_copy[col]  \n",
    "\n",
    "new_test = pd.get_dummies(columns=cat_features, data=test_copy)\n",
    "\n",
    "X_new_test = new_test.drop('id',axis=1)\n",
    "y_pred = test_tree.predict_proba(X_new_test)[:,1]"
   ]
  },
  {
   "cell_type": "code",
   "execution_count": 7,
   "metadata": {},
   "outputs": [],
   "source": [
    "gbmc = LGBMClassifier(num_leaves=39,learning_rate=0.01, n_estimators=1211,min_child_weight=7,subsample=0.85,xgboost_dart_mode=True,reg_alpha=1,min_data_in_leaf=1250,bagging_fraction=0.75)\n",
    "gbmc.fit(X_new,y_new)\n",
    "pred = gbmc.predict_proba(X_new_test)[:,1]"
   ]
  },
  {
   "cell_type": "code",
   "execution_count": 8,
   "metadata": {},
   "outputs": [],
   "source": [
    "output = pd.DataFrame( { 'id': test_id , 'target': pred} )\n",
    "output = output[['id', 'target']]\n",
    "output.to_csv(\"LightGBM-v13-last5.csv\",index=False)"
   ]
  },
  {
   "cell_type": "markdown",
   "metadata": {},
   "source": [
    "https://www.kaggle.com/manigandanv/lightgbm-regressor-classifier-cross-validation\n",
    "http://testlightgbm.readthedocs.io/en/latest/python/lightgbm.html\n",
    "https://medium.com/@pushkarmandot/https-medium-com-pushkarmandot-what-is-lightgbm-how-to-implement-it-how-to-fine-tune-the-parameters-60347819b7fc\n",
    "https://github.com/Microsoft/LightGBM/blob/master/docs/Parameters-Tuning.rst\n",
    "http://lightgbm.readthedocs.io/en/latest/Parameters.html\n",
    "https://media.readthedocs.org/pdf/lightgbm/latest/lightgbm.pdf"
   ]
  }
 ],
 "metadata": {
  "kernelspec": {
   "display_name": "Python [default]",
   "language": "python",
   "name": "python3"
  },
  "language_info": {
   "codemirror_mode": {
    "name": "ipython",
    "version": 3
   },
   "file_extension": ".py",
   "mimetype": "text/x-python",
   "name": "python",
   "nbconvert_exporter": "python",
   "pygments_lexer": "ipython3",
   "version": "3.6.5"
  }
 },
 "nbformat": 4,
 "nbformat_minor": 2
}
